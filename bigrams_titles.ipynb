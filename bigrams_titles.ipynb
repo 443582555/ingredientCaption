{
 "cells": [
  {
   "cell_type": "code",
   "execution_count": 31,
   "metadata": {
    "collapsed": false
   },
   "outputs": [],
   "source": [
    "#Creating BiGrams for the Recipe Titles.\n",
    "\n",
    "import json\n",
    "import nltk\n",
    "from nltk.corpus import stopwords\n",
    "import pickle\n",
    "#nltk.download('popular')"
   ]
  },
  {
   "cell_type": "code",
   "execution_count": 23,
   "metadata": {
    "collapsed": true
   },
   "outputs": [],
   "source": [
    "json_data = open('/data/jtaggar/project/data/layer1.json').read() #Open the layer 1.json.\n",
    "dataset = json.loads(json_data) # data set for all the things present in the layer 1. Store the content in dataset"
   ]
  },
  {
   "cell_type": "code",
   "execution_count": 24,
   "metadata": {
    "collapsed": false
   },
   "outputs": [
    {
     "data": {
      "text/plain": [
       "u'Worlds Best Mac and Cheese'"
      ]
     },
     "execution_count": 24,
     "metadata": {},
     "output_type": "execute_result"
    }
   ],
   "source": [
    "dataset[0]['title']"
   ]
  },
  {
   "cell_type": "code",
   "execution_count": 25,
   "metadata": {
    "collapsed": false
   },
   "outputs": [
    {
     "name": "stdout",
     "output_type": "stream",
     "text": [
      "Creating bigrams...\n"
     ]
    }
   ],
   "source": [
    "print(\"Creating bigrams...\")\n",
    "titles = []\n",
    "# Extrac the titles from the dataset for the training data set.\n",
    "for i in range(len(dataset)):\n",
    "    title = dataset[i]['title']\n",
    "    if dataset[i]['partition'] == 'train':\n",
    "        titles.append(title)\n",
    "\n",
    "title_file = open('/data/jtaggar/project/data/titles1M.txt','w')\n",
    "for t in titles:        \n",
    "    title_file.write(t + \" \")\n",
    "title_file.close()"
   ]
  },
  {
   "cell_type": "code",
   "execution_count": 37,
   "metadata": {
    "collapsed": false
   },
   "outputs": [],
   "source": [
    "f = open('/data/jtaggar/project/data/titles1M.txt')\n",
    "raw = f.read()\n",
    "tokens = nltk.word_tokenize(raw)\n",
    "tokens = [i.lower() for i in tokens] # lower all the letters in the tokens\n",
    "tokens = [i for i in tokens if i not in stopwords.words('english')]\n",
    "    \n",
    "#Create your bigrams\n",
    "bgs = nltk.bigrams(tokens)\n",
    "#compute frequency distribution for all the bigrams in the text\n",
    "fdist = nltk.FreqDist(bgs)\n"
   ]
  },
  {
   "cell_type": "code",
   "execution_count": 44,
   "metadata": {
    "collapsed": true
   },
   "outputs": [],
   "source": [
    "pickle.dump(fdist,open('/data/jtaggar/project/data/bigrams.pkl','wb'))"
   ]
  }
 ],
 "metadata": {
  "kernelspec": {
   "display_name": "Python 2",
   "language": "python",
   "name": "python2"
  },
  "language_info": {
   "codemirror_mode": {
    "name": "ipython",
    "version": 2
   },
   "file_extension": ".py",
   "mimetype": "text/x-python",
   "name": "python",
   "nbconvert_exporter": "python",
   "pygments_lexer": "ipython2",
   "version": "2.7.12"
  }
 },
 "nbformat": 4,
 "nbformat_minor": 2
}
